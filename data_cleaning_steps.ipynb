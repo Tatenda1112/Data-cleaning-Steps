{
 "cells": [
  {
   "cell_type": "code",
   "execution_count": 23,
   "metadata": {},
   "outputs": [],
   "source": [
    "import pandas as pd\n",
    "import numpy as np \n",
    "from faker import Faker\n",
    "import random\n",
    "from datetime import datetime, timedelta"
   ]
  },
  {
   "cell_type": "markdown",
   "metadata": {},
   "source": [
    "# **Generate Fake Data**"
   ]
  },
  {
   "cell_type": "code",
   "execution_count": 24,
   "metadata": {},
   "outputs": [],
   "source": [
    "def random_date(start, end):\n",
    "    return start + timedelta(days=random.randint(0, int((end - start).days)))\n",
    "np.random.seed(42)\n",
    "num_records = 10000\n",
    "\n",
    "loan_ids = np.arange(1, num_records + 1)\n",
    "disbursement_dates = [random_date(datetime(2020, 1, 1), datetime(2023, 1, 1)) for _ in range(num_records)]\n",
    "expire_dates = [d + timedelta(days=random.randint(30, 365)) for d in disbursement_dates]\n",
    "\n",
    "is_employed = np.random.choice([True, False, np.nan], num_records, p=[0.7, 0.25, 0.05])\n",
    "loan_amounts = np.random.choice([np.nan, *np.random.uniform(1000, 50000, num_records)], num_records)\n",
    "number_of_defaults = np.random.choice([np.nan, *np.random.randint(0, 10, num_records)], num_records)\n",
    "outstanding_balances = np.random.choice([np.nan, *np.random.uniform(0, 30000, num_records)], num_records)\n",
    "interest_rates = np.random.choice([np.nan, *np.random.uniform(0.01, 0.25, num_records)], num_records)\n",
    "ages = np.random.choice([np.nan, *np.random.randint(18, 65, num_records)], num_records)\n",
    "remaining_terms = np.random.choice([np.nan, *np.random.randint(1, 60, num_records)], num_records)\n",
    "salaries = np.random.choice([np.nan, *np.random.uniform(1000, 20000, num_records)], num_records)\n",
    "loan_statuses = np.random.choice(['Default', 'Non-Default', np.nan], num_records, p=[0.3, 0.65, 0.05])\n",
    "\n",
    "loan_data = pd.DataFrame({\n",
    "    'loan_id': loan_ids,\n",
    "    'disbursement_date': disbursement_dates,\n",
    "    'expire_date': expire_dates,\n",
    "    'is_employed': is_employed,\n",
    "    'loan_amount': loan_amounts,\n",
    "    'number_of_defaults': number_of_defaults,\n",
    "    'outstanding_balance': outstanding_balances,\n",
    "    'interest_rate': interest_rates,\n",
    "    'age': ages,\n",
    "    'remaining_term': remaining_terms,\n",
    "    'salary': salaries,\n",
    "    'loan_status': loan_statuses\n",
    "})\n",
    "\n"
   ]
  },
  {
   "cell_type": "code",
   "execution_count": 26,
   "metadata": {},
   "outputs": [
    {
     "data": {
      "text/html": [
       "<div>\n",
       "<style scoped>\n",
       "    .dataframe tbody tr th:only-of-type {\n",
       "        vertical-align: middle;\n",
       "    }\n",
       "\n",
       "    .dataframe tbody tr th {\n",
       "        vertical-align: top;\n",
       "    }\n",
       "\n",
       "    .dataframe thead th {\n",
       "        text-align: right;\n",
       "    }\n",
       "</style>\n",
       "<table border=\"1\" class=\"dataframe\">\n",
       "  <thead>\n",
       "    <tr style=\"text-align: right;\">\n",
       "      <th></th>\n",
       "      <th>loan_id</th>\n",
       "      <th>disbursement_date</th>\n",
       "      <th>expire_date</th>\n",
       "      <th>is_employed</th>\n",
       "      <th>loan_amount</th>\n",
       "      <th>number_of_defaults</th>\n",
       "      <th>outstanding_balance</th>\n",
       "      <th>interest_rate</th>\n",
       "      <th>age</th>\n",
       "      <th>remaining_term</th>\n",
       "      <th>salary</th>\n",
       "      <th>loan_status</th>\n",
       "    </tr>\n",
       "  </thead>\n",
       "  <tbody>\n",
       "    <tr>\n",
       "      <th>0</th>\n",
       "      <td>1</td>\n",
       "      <td>2021-10-20</td>\n",
       "      <td>2022-02-22</td>\n",
       "      <td>1.0</td>\n",
       "      <td>16582.170274</td>\n",
       "      <td>9.0</td>\n",
       "      <td>25154.422913</td>\n",
       "      <td>0.052483</td>\n",
       "      <td>43.0</td>\n",
       "      <td>49.0</td>\n",
       "      <td>19450.106658</td>\n",
       "      <td>Non-Default</td>\n",
       "    </tr>\n",
       "    <tr>\n",
       "      <th>1</th>\n",
       "      <td>2</td>\n",
       "      <td>2020-05-10</td>\n",
       "      <td>2021-02-06</td>\n",
       "      <td>NaN</td>\n",
       "      <td>12098.292985</td>\n",
       "      <td>2.0</td>\n",
       "      <td>27739.299907</td>\n",
       "      <td>0.201858</td>\n",
       "      <td>30.0</td>\n",
       "      <td>14.0</td>\n",
       "      <td>15597.194863</td>\n",
       "      <td>Non-Default</td>\n",
       "    </tr>\n",
       "    <tr>\n",
       "      <th>2</th>\n",
       "      <td>3</td>\n",
       "      <td>2022-02-14</td>\n",
       "      <td>2022-04-27</td>\n",
       "      <td>0.0</td>\n",
       "      <td>34200.653730</td>\n",
       "      <td>4.0</td>\n",
       "      <td>6381.836851</td>\n",
       "      <td>0.029256</td>\n",
       "      <td>56.0</td>\n",
       "      <td>23.0</td>\n",
       "      <td>7056.297556</td>\n",
       "      <td>Non-Default</td>\n",
       "    </tr>\n",
       "  </tbody>\n",
       "</table>\n",
       "</div>"
      ],
      "text/plain": [
       "   loan_id disbursement_date expire_date  is_employed   loan_amount  \\\n",
       "0        1        2021-10-20  2022-02-22          1.0  16582.170274   \n",
       "1        2        2020-05-10  2021-02-06          NaN  12098.292985   \n",
       "2        3        2022-02-14  2022-04-27          0.0  34200.653730   \n",
       "\n",
       "   number_of_defaults  outstanding_balance  interest_rate   age  \\\n",
       "0                 9.0         25154.422913       0.052483  43.0   \n",
       "1                 2.0         27739.299907       0.201858  30.0   \n",
       "2                 4.0          6381.836851       0.029256  56.0   \n",
       "\n",
       "   remaining_term        salary  loan_status  \n",
       "0            49.0  19450.106658  Non-Default  \n",
       "1            14.0  15597.194863  Non-Default  \n",
       "2            23.0   7056.297556  Non-Default  "
      ]
     },
     "execution_count": 26,
     "metadata": {},
     "output_type": "execute_result"
    }
   ],
   "source": [
    "loan_data.head(3)"
   ]
  },
  {
   "cell_type": "markdown",
   "metadata": {},
   "source": [
    "# Data Cleanign steps"
   ]
  },
  {
   "cell_type": "markdown",
   "metadata": {},
   "source": [
    "#### Check missing values "
   ]
  },
  {
   "cell_type": "code",
   "execution_count": 10,
   "metadata": {},
   "outputs": [
    {
     "data": {
      "text/plain": [
       "loan_id                0\n",
       "disbursement_date      0\n",
       "expire_date            0\n",
       "is_employed            0\n",
       "loan_amount            0\n",
       "number_of_defaults     0\n",
       "outstanding_balance    0\n",
       "interest_rate          0\n",
       "age                    0\n",
       "remaining_term         0\n",
       "salary                 0\n",
       "loan_status            0\n",
       "dtype: int64"
      ]
     },
     "execution_count": 10,
     "metadata": {},
     "output_type": "execute_result"
    }
   ],
   "source": [
    "loan_data.isnull().sum()"
   ]
  },
  {
   "cell_type": "code",
   "execution_count": 13,
   "metadata": {},
   "outputs": [
    {
     "data": {
      "text/html": [
       "<div>\n",
       "<style scoped>\n",
       "    .dataframe tbody tr th:only-of-type {\n",
       "        vertical-align: middle;\n",
       "    }\n",
       "\n",
       "    .dataframe tbody tr th {\n",
       "        vertical-align: top;\n",
       "    }\n",
       "\n",
       "    .dataframe thead th {\n",
       "        text-align: right;\n",
       "    }\n",
       "</style>\n",
       "<table border=\"1\" class=\"dataframe\">\n",
       "  <thead>\n",
       "    <tr style=\"text-align: right;\">\n",
       "      <th></th>\n",
       "      <th>loan_id</th>\n",
       "      <th>disbursement_date</th>\n",
       "      <th>expire_date</th>\n",
       "      <th>is_employed</th>\n",
       "      <th>loan_amount</th>\n",
       "      <th>number_of_defaults</th>\n",
       "      <th>outstanding_balance</th>\n",
       "      <th>interest_rate</th>\n",
       "      <th>age</th>\n",
       "      <th>remaining_term</th>\n",
       "      <th>salary</th>\n",
       "      <th>loan_status</th>\n",
       "    </tr>\n",
       "  </thead>\n",
       "  <tbody>\n",
       "  </tbody>\n",
       "</table>\n",
       "</div>"
      ],
      "text/plain": [
       "Empty DataFrame\n",
       "Columns: [loan_id, disbursement_date, expire_date, is_employed, loan_amount, number_of_defaults, outstanding_balance, interest_rate, age, remaining_term, salary, loan_status]\n",
       "Index: []"
      ]
     },
     "execution_count": 13,
     "metadata": {},
     "output_type": "execute_result"
    }
   ],
   "source": [
    "loan_data.loc[loan_data.isna().any(axis=1)]"
   ]
  },
  {
   "cell_type": "code",
   "execution_count": null,
   "metadata": {},
   "outputs": [],
   "source": []
  }
 ],
 "metadata": {
  "kernelspec": {
   "display_name": "env",
   "language": "python",
   "name": "python3"
  },
  "language_info": {
   "codemirror_mode": {
    "name": "ipython",
    "version": 3
   },
   "file_extension": ".py",
   "mimetype": "text/x-python",
   "name": "python",
   "nbconvert_exporter": "python",
   "pygments_lexer": "ipython3",
   "version": "3.12.0"
  }
 },
 "nbformat": 4,
 "nbformat_minor": 2
}
