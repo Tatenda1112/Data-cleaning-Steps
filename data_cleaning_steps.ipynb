{
 "cells": [
  {
   "cell_type": "code",
   "execution_count": 40,
   "metadata": {},
   "outputs": [],
   "source": [
    "import pandas as pd\n",
    "import numpy as np \n",
    "from faker import Faker\n",
    "import random\n",
    "from datetime import datetime, timedelta"
   ]
  },
  {
   "cell_type": "markdown",
   "metadata": {},
   "source": [
    "# **Generate Fake Data**"
   ]
  },
  {
   "cell_type": "code",
   "execution_count": 41,
   "metadata": {},
   "outputs": [],
   "source": [
    "def random_date(start, end):\n",
    "    return start + timedelta(days=random.randint(0, int((end - start).days)))\n",
    "np.random.seed(42)\n",
    "num_records = 10000\n",
    "\n",
    "loan_ids = np.arange(1, num_records + 1)\n",
    "disbursement_dates = [random_date(datetime(2020, 1, 1), datetime(2023, 1, 1)) for _ in range(num_records)]\n",
    "expire_dates = [d + timedelta(days=random.randint(30, 365)) for d in disbursement_dates]\n",
    "\n",
    "is_employed = np.random.choice([True, False, np.nan], num_records, p=[0.7, 0.25, 0.05])\n",
    "loan_amounts = np.random.choice([np.nan, *np.random.uniform(1000, 50000, num_records)], num_records)\n",
    "number_of_defaults = np.random.choice([np.nan, *np.random.randint(0, 10, num_records)], num_records)\n",
    "outstanding_balances = np.random.choice([np.nan, *np.random.uniform(0, 30000, num_records)], num_records)\n",
    "interest_rates = np.random.choice([np.nan, *np.random.uniform(0.01, 0.25, num_records)], num_records)\n",
    "ages = np.random.choice([np.nan, *np.random.randint(18, 65, num_records)], num_records)\n",
    "remaining_terms = np.random.choice([np.nan, *np.random.randint(1, 60, num_records)], num_records)\n",
    "salaries = np.random.choice([np.nan, *np.random.uniform(1000, 20000, num_records)], num_records)\n",
    "loan_statuses = np.random.choice(['Default', 'Non-Default', np.nan], num_records, p=[0.3, 0.65, 0.05])\n",
    "\n",
    "loan_data = pd.DataFrame({\n",
    "    'loan_id': loan_ids,\n",
    "    'disbursement_date': disbursement_dates,\n",
    "    'expire_date': expire_dates,\n",
    "    'is_employed': is_employed,\n",
    "    'loan_amount': loan_amounts,\n",
    "    'number_of_defaults': number_of_defaults,\n",
    "    'outstanding_balance': outstanding_balances,\n",
    "    'interest_rate': interest_rates,\n",
    "    'age': ages,\n",
    "    'remaining_term': remaining_terms,\n",
    "    'salary': salaries,\n",
    "    'loan_status': loan_statuses\n",
    "})\n",
    "\n"
   ]
  },
  {
   "cell_type": "code",
   "execution_count": 42,
   "metadata": {},
   "outputs": [
    {
     "data": {
      "text/html": [
       "<div>\n",
       "<style scoped>\n",
       "    .dataframe tbody tr th:only-of-type {\n",
       "        vertical-align: middle;\n",
       "    }\n",
       "\n",
       "    .dataframe tbody tr th {\n",
       "        vertical-align: top;\n",
       "    }\n",
       "\n",
       "    .dataframe thead th {\n",
       "        text-align: right;\n",
       "    }\n",
       "</style>\n",
       "<table border=\"1\" class=\"dataframe\">\n",
       "  <thead>\n",
       "    <tr style=\"text-align: right;\">\n",
       "      <th></th>\n",
       "      <th>loan_id</th>\n",
       "      <th>disbursement_date</th>\n",
       "      <th>expire_date</th>\n",
       "      <th>is_employed</th>\n",
       "      <th>loan_amount</th>\n",
       "      <th>number_of_defaults</th>\n",
       "      <th>outstanding_balance</th>\n",
       "      <th>interest_rate</th>\n",
       "      <th>age</th>\n",
       "      <th>remaining_term</th>\n",
       "      <th>salary</th>\n",
       "      <th>loan_status</th>\n",
       "    </tr>\n",
       "  </thead>\n",
       "  <tbody>\n",
       "    <tr>\n",
       "      <th>0</th>\n",
       "      <td>1</td>\n",
       "      <td>2021-08-13</td>\n",
       "      <td>2022-06-28</td>\n",
       "      <td>1.0</td>\n",
       "      <td>29806.398905</td>\n",
       "      <td>4.0</td>\n",
       "      <td>29869.899084</td>\n",
       "      <td>0.112340</td>\n",
       "      <td>38.0</td>\n",
       "      <td>49.0</td>\n",
       "      <td>10442.103846</td>\n",
       "      <td>Non-Default</td>\n",
       "    </tr>\n",
       "    <tr>\n",
       "      <th>1</th>\n",
       "      <td>2</td>\n",
       "      <td>2020-06-10</td>\n",
       "      <td>2021-02-06</td>\n",
       "      <td>NaN</td>\n",
       "      <td>28348.573748</td>\n",
       "      <td>5.0</td>\n",
       "      <td>27408.000182</td>\n",
       "      <td>0.128941</td>\n",
       "      <td>30.0</td>\n",
       "      <td>30.0</td>\n",
       "      <td>8779.630547</td>\n",
       "      <td>Non-Default</td>\n",
       "    </tr>\n",
       "    <tr>\n",
       "      <th>2</th>\n",
       "      <td>3</td>\n",
       "      <td>2021-08-25</td>\n",
       "      <td>2021-10-29</td>\n",
       "      <td>0.0</td>\n",
       "      <td>25470.384359</td>\n",
       "      <td>2.0</td>\n",
       "      <td>19078.850400</td>\n",
       "      <td>0.224119</td>\n",
       "      <td>63.0</td>\n",
       "      <td>17.0</td>\n",
       "      <td>9925.697326</td>\n",
       "      <td>Non-Default</td>\n",
       "    </tr>\n",
       "  </tbody>\n",
       "</table>\n",
       "</div>"
      ],
      "text/plain": [
       "   loan_id disbursement_date expire_date  is_employed   loan_amount  \\\n",
       "0        1        2021-08-13  2022-06-28          1.0  29806.398905   \n",
       "1        2        2020-06-10  2021-02-06          NaN  28348.573748   \n",
       "2        3        2021-08-25  2021-10-29          0.0  25470.384359   \n",
       "\n",
       "   number_of_defaults  outstanding_balance  interest_rate   age  \\\n",
       "0                 4.0         29869.899084       0.112340  38.0   \n",
       "1                 5.0         27408.000182       0.128941  30.0   \n",
       "2                 2.0         19078.850400       0.224119  63.0   \n",
       "\n",
       "   remaining_term        salary  loan_status  \n",
       "0            49.0  10442.103846  Non-Default  \n",
       "1            30.0   8779.630547  Non-Default  \n",
       "2            17.0   9925.697326  Non-Default  "
      ]
     },
     "execution_count": 42,
     "metadata": {},
     "output_type": "execute_result"
    }
   ],
   "source": [
    "loan_data.head(3)"
   ]
  },
  {
   "cell_type": "code",
   "execution_count": 43,
   "metadata": {},
   "outputs": [
    {
     "data": {
      "text/plain": [
       "(10000, 12)"
      ]
     },
     "execution_count": 43,
     "metadata": {},
     "output_type": "execute_result"
    }
   ],
   "source": [
    "loan_data.shape"
   ]
  },
  {
   "cell_type": "markdown",
   "metadata": {},
   "source": [
    "# Data Cleanign steps"
   ]
  },
  {
   "cell_type": "markdown",
   "metadata": {},
   "source": [
    "- Data cleaning is the process of ensuring that data is in the proper format, *making it suitable for analysis and modeling*"
   ]
  },
  {
   "cell_type": "markdown",
   "metadata": {},
   "source": [
    "### 1.Check missing values "
   ]
  },
  {
   "cell_type": "code",
   "execution_count": 44,
   "metadata": {},
   "outputs": [
    {
     "data": {
      "text/plain": [
       "loan_id                  0\n",
       "disbursement_date        0\n",
       "expire_date              0\n",
       "is_employed            474\n",
       "loan_amount              1\n",
       "number_of_defaults       1\n",
       "outstanding_balance      2\n",
       "interest_rate            1\n",
       "age                      1\n",
       "remaining_term           2\n",
       "salary                   0\n",
       "loan_status              0\n",
       "dtype: int64"
      ]
     },
     "execution_count": 44,
     "metadata": {},
     "output_type": "execute_result"
    }
   ],
   "source": [
    "loan_data.isnull().sum()"
   ]
  },
  {
   "cell_type": "code",
   "execution_count": 45,
   "metadata": {},
   "outputs": [],
   "source": [
    "def check_missing_values(data:pd.DataFrame)->pd.DataFrame:\n",
    "     return data.isnull().sum()"
   ]
  },
  {
   "cell_type": "code",
   "execution_count": 46,
   "metadata": {},
   "outputs": [
    {
     "data": {
      "text/plain": [
       "loan_id                  0\n",
       "disbursement_date        0\n",
       "expire_date              0\n",
       "is_employed            474\n",
       "loan_amount              1\n",
       "number_of_defaults       1\n",
       "outstanding_balance      2\n",
       "interest_rate            1\n",
       "age                      1\n",
       "remaining_term           2\n",
       "salary                   0\n",
       "loan_status              0\n",
       "dtype: int64"
      ]
     },
     "execution_count": 46,
     "metadata": {},
     "output_type": "execute_result"
    }
   ],
   "source": [
    "check_missing = check_missing_values(data=loan_data)\n",
    "check_missing"
   ]
  },
  {
   "cell_type": "markdown",
   "metadata": {},
   "source": [
    "- As we can see from the data above, there are missing values in the following columns: `is_employed`, `loan_amount`, `number_of_defaults`, `outstanding_balance`, `interest_rate`, `age`, and `remaining_term`.\n"
   ]
  },
  {
   "cell_type": "markdown",
   "metadata": {},
   "source": [
    "- We can also return DataFrame with missing values "
   ]
  },
  {
   "cell_type": "code",
   "execution_count": 47,
   "metadata": {},
   "outputs": [],
   "source": [
    "def check_missing_values(data:pd.DataFrame)->pd.DataFrame:\n",
    "     return data.loc[data.isnull().any(axis=1)]"
   ]
  },
  {
   "cell_type": "code",
   "execution_count": 48,
   "metadata": {},
   "outputs": [
    {
     "data": {
      "text/html": [
       "<div>\n",
       "<style scoped>\n",
       "    .dataframe tbody tr th:only-of-type {\n",
       "        vertical-align: middle;\n",
       "    }\n",
       "\n",
       "    .dataframe tbody tr th {\n",
       "        vertical-align: top;\n",
       "    }\n",
       "\n",
       "    .dataframe thead th {\n",
       "        text-align: right;\n",
       "    }\n",
       "</style>\n",
       "<table border=\"1\" class=\"dataframe\">\n",
       "  <thead>\n",
       "    <tr style=\"text-align: right;\">\n",
       "      <th></th>\n",
       "      <th>loan_id</th>\n",
       "      <th>disbursement_date</th>\n",
       "      <th>expire_date</th>\n",
       "      <th>is_employed</th>\n",
       "      <th>loan_amount</th>\n",
       "      <th>number_of_defaults</th>\n",
       "      <th>outstanding_balance</th>\n",
       "      <th>interest_rate</th>\n",
       "      <th>age</th>\n",
       "      <th>remaining_term</th>\n",
       "      <th>salary</th>\n",
       "      <th>loan_status</th>\n",
       "    </tr>\n",
       "  </thead>\n",
       "  <tbody>\n",
       "    <tr>\n",
       "      <th>1</th>\n",
       "      <td>2</td>\n",
       "      <td>2020-06-10</td>\n",
       "      <td>2021-02-06</td>\n",
       "      <td>NaN</td>\n",
       "      <td>28348.573748</td>\n",
       "      <td>5.0</td>\n",
       "      <td>27408.000182</td>\n",
       "      <td>0.128941</td>\n",
       "      <td>30.0</td>\n",
       "      <td>30.0</td>\n",
       "      <td>8779.630547</td>\n",
       "      <td>Non-Default</td>\n",
       "    </tr>\n",
       "    <tr>\n",
       "      <th>11</th>\n",
       "      <td>12</td>\n",
       "      <td>2020-06-25</td>\n",
       "      <td>2021-02-06</td>\n",
       "      <td>NaN</td>\n",
       "      <td>11471.935768</td>\n",
       "      <td>1.0</td>\n",
       "      <td>4842.795849</td>\n",
       "      <td>0.192387</td>\n",
       "      <td>27.0</td>\n",
       "      <td>38.0</td>\n",
       "      <td>5981.078707</td>\n",
       "      <td>Non-Default</td>\n",
       "    </tr>\n",
       "    <tr>\n",
       "      <th>34</th>\n",
       "      <td>35</td>\n",
       "      <td>2020-11-10</td>\n",
       "      <td>2021-05-03</td>\n",
       "      <td>NaN</td>\n",
       "      <td>12458.570085</td>\n",
       "      <td>3.0</td>\n",
       "      <td>14616.721703</td>\n",
       "      <td>0.189646</td>\n",
       "      <td>24.0</td>\n",
       "      <td>24.0</td>\n",
       "      <td>8985.982774</td>\n",
       "      <td>Non-Default</td>\n",
       "    </tr>\n",
       "    <tr>\n",
       "      <th>50</th>\n",
       "      <td>51</td>\n",
       "      <td>2022-02-11</td>\n",
       "      <td>2022-05-04</td>\n",
       "      <td>NaN</td>\n",
       "      <td>34742.835205</td>\n",
       "      <td>0.0</td>\n",
       "      <td>9980.403155</td>\n",
       "      <td>0.243796</td>\n",
       "      <td>39.0</td>\n",
       "      <td>2.0</td>\n",
       "      <td>19021.746320</td>\n",
       "      <td>Default</td>\n",
       "    </tr>\n",
       "    <tr>\n",
       "      <th>69</th>\n",
       "      <td>70</td>\n",
       "      <td>2022-03-28</td>\n",
       "      <td>2022-10-18</td>\n",
       "      <td>NaN</td>\n",
       "      <td>24528.498651</td>\n",
       "      <td>7.0</td>\n",
       "      <td>15711.060298</td>\n",
       "      <td>0.209259</td>\n",
       "      <td>27.0</td>\n",
       "      <td>14.0</td>\n",
       "      <td>3521.346822</td>\n",
       "      <td>Non-Default</td>\n",
       "    </tr>\n",
       "    <tr>\n",
       "      <th>...</th>\n",
       "      <td>...</td>\n",
       "      <td>...</td>\n",
       "      <td>...</td>\n",
       "      <td>...</td>\n",
       "      <td>...</td>\n",
       "      <td>...</td>\n",
       "      <td>...</td>\n",
       "      <td>...</td>\n",
       "      <td>...</td>\n",
       "      <td>...</td>\n",
       "      <td>...</td>\n",
       "      <td>...</td>\n",
       "    </tr>\n",
       "    <tr>\n",
       "      <th>9851</th>\n",
       "      <td>9852</td>\n",
       "      <td>2021-08-18</td>\n",
       "      <td>2022-06-12</td>\n",
       "      <td>NaN</td>\n",
       "      <td>6735.032652</td>\n",
       "      <td>5.0</td>\n",
       "      <td>26000.942849</td>\n",
       "      <td>0.073461</td>\n",
       "      <td>44.0</td>\n",
       "      <td>59.0</td>\n",
       "      <td>8351.716821</td>\n",
       "      <td>Non-Default</td>\n",
       "    </tr>\n",
       "    <tr>\n",
       "      <th>9927</th>\n",
       "      <td>9928</td>\n",
       "      <td>2021-12-24</td>\n",
       "      <td>2022-08-07</td>\n",
       "      <td>NaN</td>\n",
       "      <td>37890.602781</td>\n",
       "      <td>6.0</td>\n",
       "      <td>2531.808990</td>\n",
       "      <td>0.090598</td>\n",
       "      <td>55.0</td>\n",
       "      <td>13.0</td>\n",
       "      <td>16555.449232</td>\n",
       "      <td>nan</td>\n",
       "    </tr>\n",
       "    <tr>\n",
       "      <th>9971</th>\n",
       "      <td>9972</td>\n",
       "      <td>2020-11-20</td>\n",
       "      <td>2021-10-07</td>\n",
       "      <td>NaN</td>\n",
       "      <td>15641.350140</td>\n",
       "      <td>9.0</td>\n",
       "      <td>10288.396845</td>\n",
       "      <td>0.160507</td>\n",
       "      <td>36.0</td>\n",
       "      <td>40.0</td>\n",
       "      <td>5218.878111</td>\n",
       "      <td>Non-Default</td>\n",
       "    </tr>\n",
       "    <tr>\n",
       "      <th>9972</th>\n",
       "      <td>9973</td>\n",
       "      <td>2022-11-03</td>\n",
       "      <td>2023-04-13</td>\n",
       "      <td>NaN</td>\n",
       "      <td>28699.159038</td>\n",
       "      <td>4.0</td>\n",
       "      <td>12616.283408</td>\n",
       "      <td>0.231205</td>\n",
       "      <td>23.0</td>\n",
       "      <td>32.0</td>\n",
       "      <td>19874.948375</td>\n",
       "      <td>Non-Default</td>\n",
       "    </tr>\n",
       "    <tr>\n",
       "      <th>9978</th>\n",
       "      <td>9979</td>\n",
       "      <td>2022-09-18</td>\n",
       "      <td>2022-12-26</td>\n",
       "      <td>NaN</td>\n",
       "      <td>37385.935426</td>\n",
       "      <td>8.0</td>\n",
       "      <td>6335.832926</td>\n",
       "      <td>0.112430</td>\n",
       "      <td>54.0</td>\n",
       "      <td>44.0</td>\n",
       "      <td>7641.380020</td>\n",
       "      <td>Default</td>\n",
       "    </tr>\n",
       "  </tbody>\n",
       "</table>\n",
       "<p>481 rows × 12 columns</p>\n",
       "</div>"
      ],
      "text/plain": [
       "      loan_id disbursement_date expire_date  is_employed   loan_amount  \\\n",
       "1           2        2020-06-10  2021-02-06          NaN  28348.573748   \n",
       "11         12        2020-06-25  2021-02-06          NaN  11471.935768   \n",
       "34         35        2020-11-10  2021-05-03          NaN  12458.570085   \n",
       "50         51        2022-02-11  2022-05-04          NaN  34742.835205   \n",
       "69         70        2022-03-28  2022-10-18          NaN  24528.498651   \n",
       "...       ...               ...         ...          ...           ...   \n",
       "9851     9852        2021-08-18  2022-06-12          NaN   6735.032652   \n",
       "9927     9928        2021-12-24  2022-08-07          NaN  37890.602781   \n",
       "9971     9972        2020-11-20  2021-10-07          NaN  15641.350140   \n",
       "9972     9973        2022-11-03  2023-04-13          NaN  28699.159038   \n",
       "9978     9979        2022-09-18  2022-12-26          NaN  37385.935426   \n",
       "\n",
       "      number_of_defaults  outstanding_balance  interest_rate   age  \\\n",
       "1                    5.0         27408.000182       0.128941  30.0   \n",
       "11                   1.0          4842.795849       0.192387  27.0   \n",
       "34                   3.0         14616.721703       0.189646  24.0   \n",
       "50                   0.0          9980.403155       0.243796  39.0   \n",
       "69                   7.0         15711.060298       0.209259  27.0   \n",
       "...                  ...                  ...            ...   ...   \n",
       "9851                 5.0         26000.942849       0.073461  44.0   \n",
       "9927                 6.0          2531.808990       0.090598  55.0   \n",
       "9971                 9.0         10288.396845       0.160507  36.0   \n",
       "9972                 4.0         12616.283408       0.231205  23.0   \n",
       "9978                 8.0          6335.832926       0.112430  54.0   \n",
       "\n",
       "      remaining_term        salary  loan_status  \n",
       "1               30.0   8779.630547  Non-Default  \n",
       "11              38.0   5981.078707  Non-Default  \n",
       "34              24.0   8985.982774  Non-Default  \n",
       "50               2.0  19021.746320      Default  \n",
       "69              14.0   3521.346822  Non-Default  \n",
       "...              ...           ...          ...  \n",
       "9851            59.0   8351.716821  Non-Default  \n",
       "9927            13.0  16555.449232          nan  \n",
       "9971            40.0   5218.878111  Non-Default  \n",
       "9972            32.0  19874.948375  Non-Default  \n",
       "9978            44.0   7641.380020      Default  \n",
       "\n",
       "[481 rows x 12 columns]"
      ]
     },
     "execution_count": 48,
     "metadata": {},
     "output_type": "execute_result"
    }
   ],
   "source": [
    "missing_values= check_missing_values(loan_data)\n",
    "missing_values"
   ]
  },
  {
   "cell_type": "markdown",
   "metadata": {},
   "source": [
    "- Since we have identified the missing values in our data, we need to apply appropriate methods to fill them.\n",
    "- Please note, this is fake data. In a real-world situation, you must consult or ask for guidance on how to handle missing values. For example, you cannot impute a missing value like a person's salary without permission from management or your supervisor who assigned the project.\n"
   ]
  },
  {
   "cell_type": "markdown",
   "metadata": {},
   "source": [
    "### fill missing values "
   ]
  },
  {
   "cell_type": "code",
   "execution_count": 49,
   "metadata": {},
   "outputs": [],
   "source": [
    "def fill_missing_values(df):\n",
    "    df['is_employed'].fillna(df['is_employed'].mode()[0], inplace=True)\n",
    "    df['loan_amount'].fillna(df['loan_amount'].median(), inplace=True)\n",
    "    df['number_of_defaults'].fillna(df['number_of_defaults'].median(), inplace=True)\n",
    "    df['outstanding_balance'].fillna(df['outstanding_balance'].median(), inplace=True)\n",
    "    df['interest_rate'].fillna(df['interest_rate'].median(), inplace=True)\n",
    "    df['age'].fillna(df['age'].median(), inplace=True)\n",
    "    df['remaining_term'].fillna(df['remaining_term'].median(), inplace=True)\n",
    "    return df"
   ]
  },
  {
   "cell_type": "code",
   "execution_count": 50,
   "metadata": {},
   "outputs": [],
   "source": [
    "data = loan_data.copy()\n",
    "data= fill_missing_values(data)"
   ]
  },
  {
   "cell_type": "code",
   "execution_count": 51,
   "metadata": {},
   "outputs": [
    {
     "data": {
      "text/plain": [
       "loan_id                0\n",
       "disbursement_date      0\n",
       "expire_date            0\n",
       "is_employed            0\n",
       "loan_amount            0\n",
       "number_of_defaults     0\n",
       "outstanding_balance    0\n",
       "interest_rate          0\n",
       "age                    0\n",
       "remaining_term         0\n",
       "salary                 0\n",
       "loan_status            0\n",
       "dtype: int64"
      ]
     },
     "execution_count": 51,
     "metadata": {},
     "output_type": "execute_result"
    }
   ],
   "source": [
    "data.isnull().sum()"
   ]
  },
  {
   "cell_type": "markdown",
   "metadata": {},
   "source": [
    "### Convert dates columns to datetime"
   ]
  },
  {
   "cell_type": "code",
   "execution_count": 52,
   "metadata": {},
   "outputs": [],
   "source": [
    "def convert_columns_to_datetime(df, date_format='%d/%m/%y'):\n",
    "    date_columns = df.filter(regex='date').columns\n",
    "    not_converted = []\n",
    "    def convert_column(column):\n",
    "        try:\n",
    "            return pd.to_datetime(column, format=date_format)\n",
    "        except Exception:\n",
    "            not_converted.append(column.name)\n",
    "            return column  \n",
    "    df[date_columns] = df[date_columns].apply(convert_column)\n",
    "    return df, not_converted\n"
   ]
  },
  {
   "cell_type": "code",
   "execution_count": 53,
   "metadata": {},
   "outputs": [],
   "source": [
    "data, not_converted =convert_columns_to_datetime(data)"
   ]
  },
  {
   "cell_type": "code",
   "execution_count": 54,
   "metadata": {},
   "outputs": [
    {
     "data": {
      "text/plain": [
       "[]"
      ]
     },
     "execution_count": 54,
     "metadata": {},
     "output_type": "execute_result"
    }
   ],
   "source": [
    "not_converted"
   ]
  },
  {
   "cell_type": "code",
   "execution_count": 56,
   "metadata": {},
   "outputs": [
    {
     "data": {
      "text/html": [
       "<div>\n",
       "<style scoped>\n",
       "    .dataframe tbody tr th:only-of-type {\n",
       "        vertical-align: middle;\n",
       "    }\n",
       "\n",
       "    .dataframe tbody tr th {\n",
       "        vertical-align: top;\n",
       "    }\n",
       "\n",
       "    .dataframe thead th {\n",
       "        text-align: right;\n",
       "    }\n",
       "</style>\n",
       "<table border=\"1\" class=\"dataframe\">\n",
       "  <thead>\n",
       "    <tr style=\"text-align: right;\">\n",
       "      <th></th>\n",
       "      <th>loan_id</th>\n",
       "      <th>disbursement_date</th>\n",
       "      <th>expire_date</th>\n",
       "      <th>is_employed</th>\n",
       "      <th>loan_amount</th>\n",
       "      <th>number_of_defaults</th>\n",
       "      <th>outstanding_balance</th>\n",
       "      <th>interest_rate</th>\n",
       "      <th>age</th>\n",
       "      <th>remaining_term</th>\n",
       "      <th>salary</th>\n",
       "      <th>loan_status</th>\n",
       "    </tr>\n",
       "  </thead>\n",
       "  <tbody>\n",
       "    <tr>\n",
       "      <th>0</th>\n",
       "      <td>1</td>\n",
       "      <td>2021-08-13</td>\n",
       "      <td>2022-06-28</td>\n",
       "      <td>1.0</td>\n",
       "      <td>29806.398905</td>\n",
       "      <td>4.0</td>\n",
       "      <td>29869.899084</td>\n",
       "      <td>0.112340</td>\n",
       "      <td>38.0</td>\n",
       "      <td>49.0</td>\n",
       "      <td>10442.103846</td>\n",
       "      <td>Non-Default</td>\n",
       "    </tr>\n",
       "    <tr>\n",
       "      <th>1</th>\n",
       "      <td>2</td>\n",
       "      <td>2020-06-10</td>\n",
       "      <td>2021-02-06</td>\n",
       "      <td>1.0</td>\n",
       "      <td>28348.573748</td>\n",
       "      <td>5.0</td>\n",
       "      <td>27408.000182</td>\n",
       "      <td>0.128941</td>\n",
       "      <td>30.0</td>\n",
       "      <td>30.0</td>\n",
       "      <td>8779.630547</td>\n",
       "      <td>Non-Default</td>\n",
       "    </tr>\n",
       "    <tr>\n",
       "      <th>2</th>\n",
       "      <td>3</td>\n",
       "      <td>2021-08-25</td>\n",
       "      <td>2021-10-29</td>\n",
       "      <td>0.0</td>\n",
       "      <td>25470.384359</td>\n",
       "      <td>2.0</td>\n",
       "      <td>19078.850400</td>\n",
       "      <td>0.224119</td>\n",
       "      <td>63.0</td>\n",
       "      <td>17.0</td>\n",
       "      <td>9925.697326</td>\n",
       "      <td>Non-Default</td>\n",
       "    </tr>\n",
       "    <tr>\n",
       "      <th>3</th>\n",
       "      <td>4</td>\n",
       "      <td>2021-06-11</td>\n",
       "      <td>2021-08-06</td>\n",
       "      <td>1.0</td>\n",
       "      <td>36758.859229</td>\n",
       "      <td>9.0</td>\n",
       "      <td>5269.500606</td>\n",
       "      <td>0.125747</td>\n",
       "      <td>30.0</td>\n",
       "      <td>7.0</td>\n",
       "      <td>16044.997132</td>\n",
       "      <td>Default</td>\n",
       "    </tr>\n",
       "    <tr>\n",
       "      <th>4</th>\n",
       "      <td>5</td>\n",
       "      <td>2021-11-03</td>\n",
       "      <td>2022-04-02</td>\n",
       "      <td>1.0</td>\n",
       "      <td>45535.484579</td>\n",
       "      <td>6.0</td>\n",
       "      <td>22912.296526</td>\n",
       "      <td>0.142642</td>\n",
       "      <td>40.0</td>\n",
       "      <td>10.0</td>\n",
       "      <td>16256.662800</td>\n",
       "      <td>Default</td>\n",
       "    </tr>\n",
       "  </tbody>\n",
       "</table>\n",
       "</div>"
      ],
      "text/plain": [
       "   loan_id disbursement_date expire_date  is_employed   loan_amount  \\\n",
       "0        1        2021-08-13  2022-06-28          1.0  29806.398905   \n",
       "1        2        2020-06-10  2021-02-06          1.0  28348.573748   \n",
       "2        3        2021-08-25  2021-10-29          0.0  25470.384359   \n",
       "3        4        2021-06-11  2021-08-06          1.0  36758.859229   \n",
       "4        5        2021-11-03  2022-04-02          1.0  45535.484579   \n",
       "\n",
       "   number_of_defaults  outstanding_balance  interest_rate   age  \\\n",
       "0                 4.0         29869.899084       0.112340  38.0   \n",
       "1                 5.0         27408.000182       0.128941  30.0   \n",
       "2                 2.0         19078.850400       0.224119  63.0   \n",
       "3                 9.0          5269.500606       0.125747  30.0   \n",
       "4                 6.0         22912.296526       0.142642  40.0   \n",
       "\n",
       "   remaining_term        salary  loan_status  \n",
       "0            49.0  10442.103846  Non-Default  \n",
       "1            30.0   8779.630547  Non-Default  \n",
       "2            17.0   9925.697326  Non-Default  \n",
       "3             7.0  16044.997132      Default  \n",
       "4            10.0  16256.662800      Default  "
      ]
     },
     "execution_count": 56,
     "metadata": {},
     "output_type": "execute_result"
    }
   ],
   "source": [
    "data.head()"
   ]
  },
  {
   "cell_type": "code",
   "execution_count": null,
   "metadata": {},
   "outputs": [],
   "source": []
  }
 ],
 "metadata": {
  "kernelspec": {
   "display_name": "env",
   "language": "python",
   "name": "python3"
  },
  "language_info": {
   "codemirror_mode": {
    "name": "ipython",
    "version": 3
   },
   "file_extension": ".py",
   "mimetype": "text/x-python",
   "name": "python",
   "nbconvert_exporter": "python",
   "pygments_lexer": "ipython3",
   "version": "3.12.0"
  }
 },
 "nbformat": 4,
 "nbformat_minor": 2
}
