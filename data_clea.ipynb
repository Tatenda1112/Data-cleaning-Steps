{
 "cells": [
  {
   "cell_type": "code",
   "execution_count": 4,
   "metadata": {},
   "outputs": [],
   "source": [
    "import pandas as pd\n",
    "import numpy as np\n",
    "from faker import Faker\n",
    "import random\n",
    "import warnings\n",
    "\n",
    "warnings.filterwarnings(\"ignore\")\n",
    "from datetime import datetime, timedelta"
   ]
  },
  {
   "cell_type": "code",
   "execution_count": 5,
   "metadata": {},
   "outputs": [],
   "source": [
    "def random_date(start, end):\n",
    "    return start + timedelta(days=random.randint(0, int((end - start).days)))\n",
    "\n",
    "\n",
    "np.random.seed(42)\n",
    "num_records = 10000\n",
    "\n",
    "loan_ids = np.arange(1, num_records + 1)\n",
    "disbursement_dates = [\n",
    "    random_date(datetime(2020, 1, 1), datetime(2023, 1, 1)) for _ in range(num_records)\n",
    "]\n",
    "expire_dates = [d + timedelta(days=random.randint(30, 365)) for d in disbursement_dates]\n",
    "\n",
    "is_employed = np.random.choice([True, False, np.nan], num_records, p=[0.7, 0.25, 0.05])\n",
    "loan_amounts = np.random.choice(\n",
    "    [np.nan, *np.random.uniform(1000, 50000, num_records)], num_records\n",
    ")\n",
    "number_of_defaults = np.random.choice(\n",
    "    [np.nan, *np.random.randint(0, 10, num_records)], num_records\n",
    ")\n",
    "outstanding_balances = np.random.choice(\n",
    "    [np.nan, *np.random.uniform(0, 30000, num_records)], num_records\n",
    ")\n",
    "interest_rates = np.random.choice(\n",
    "    [np.nan, *np.random.uniform(0.01, 0.25, num_records)], num_records\n",
    ")\n",
    "ages = np.random.choice([np.nan, *np.random.randint(18, 65, num_records)], num_records)\n",
    "remaining_terms = np.random.choice(\n",
    "    [np.nan, *np.random.randint(1, 60, num_records)], num_records\n",
    ")\n",
    "salaries = np.random.choice(\n",
    "    [np.nan, *np.random.uniform(1000, 20000, num_records)], num_records\n",
    ")\n",
    "loan_statuses = np.random.choice(\n",
    "    [\"Default\", \"Non-Default\", np.nan], num_records, p=[0.3, 0.65, 0.05]\n",
    ")\n",
    "sectors = np.random.choice(\n",
    "    [\"Agriculture\", \"Manufacturing\", \"Services\", \"IT\", \"Retail\"], num_records\n",
    ")\n",
    "currencies = np.random.choice([\"USD\", \"EUR\", \"ZWL\", \"GBP\", \"AUD\"], num_records)\n",
    "employee_sectors = np.random.choice(\n",
    "    [\"Public\", \"Private\", \"Self-employed\", \"Unemployed\"], num_records\n",
    ")\n",
    "statuses = np.random.choice([\"Active\", \"Inactive\"], num_records)\n",
    "\n",
    "loan_data = pd.DataFrame(\n",
    "    {\n",
    "        \"loan_id\": loan_ids,\n",
    "        \"disbursement_date\": disbursement_dates,\n",
    "        \"expire_date\": expire_dates,\n",
    "        \"is_employed\": is_employed,\n",
    "        \"loan_amount\": loan_amounts,\n",
    "        \"number_of_defaults\": number_of_defaults,\n",
    "        \"outstanding_balance\": outstanding_balances,\n",
    "        \"interest_rate\": interest_rates,\n",
    "        \"age\": ages,\n",
    "        \"remaining_term\": remaining_terms,\n",
    "        \"salary\": salaries,\n",
    "        \"sector\": sectors,\n",
    "        \"currency\": currencies,\n",
    "        \"employee_sector\": employee_sectors,\n",
    "        \"status\": statuses,\n",
    "        \"loan_status\": loan_statuses,\n",
    "    }\n",
    ")"
   ]
  },
  {
   "cell_type": "code",
   "execution_count": 6,
   "metadata": {},
   "outputs": [],
   "source": [
    "def fill_missing_values(df):\n",
    "    df[\"is_employed\"].fillna(df[\"is_employed\"].mode()[0], inplace=True)\n",
    "    df[\"loan_amount\"].fillna(df[\"loan_amount\"].median(), inplace=True)\n",
    "    df[\"number_of_defaults\"].fillna(df[\"number_of_defaults\"].median(), inplace=True)\n",
    "    df[\"outstanding_balance\"].fillna(df[\"outstanding_balance\"].median(), inplace=True)\n",
    "    df[\"interest_rate\"].fillna(df[\"interest_rate\"].median(), inplace=True)\n",
    "    df[\"age\"].fillna(df[\"age\"].median(), inplace=True)\n",
    "    df[\"remaining_term\"].fillna(df[\"remaining_term\"].median(), inplace=True)\n",
    "    return df"
   ]
  },
  {
   "cell_type": "code",
   "execution_count": 7,
   "metadata": {},
   "outputs": [],
   "source": [
    "data = loan_data.copy()\n",
    "data = fill_missing_values(data)"
   ]
  },
  {
   "cell_type": "code",
   "execution_count": null,
   "metadata": {},
   "outputs": [],
   "source": []
  }
 ],
 "metadata": {
  "kernelspec": {
   "display_name": "env",
   "language": "python",
   "name": "python3"
  },
  "language_info": {
   "codemirror_mode": {
    "name": "ipython",
    "version": 3
   },
   "file_extension": ".py",
   "mimetype": "text/x-python",
   "name": "python",
   "nbconvert_exporter": "python",
   "pygments_lexer": "ipython3",
   "version": "3.12.0"
  }
 },
 "nbformat": 4,
 "nbformat_minor": 2
}
